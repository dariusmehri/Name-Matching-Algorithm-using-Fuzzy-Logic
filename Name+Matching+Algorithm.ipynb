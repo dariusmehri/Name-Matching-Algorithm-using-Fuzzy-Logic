{
 "cells": [
  {
   "cell_type": "markdown",
   "metadata": {},
   "source": [
    "# Name Matching Algorithm"
   ]
  },
  {
   "cell_type": "code",
   "execution_count": null,
   "metadata": {
    "collapsed": true
   },
   "outputs": [],
   "source": [
    "import pandas as pd"
   ]
  },
  {
   "cell_type": "code",
   "execution_count": null,
   "metadata": {
    "collapsed": true
   },
   "outputs": [],
   "source": [
    "d = pd.read_csv(\"C:\\\\Users\\\\dmehri\\\\Documents\\\\DATA\\\\Germain Special\\\\Leave Requests Report.csv\")\n",
    "\n",
    "d = d[[\"Last Name\", \"First Name\", \"Start Time\", \"End Time\", \"Duration\", \"Leave Type\"]]\n",
    "\n",
    "d[\"Name\"] = d[\"First Name\"] + \" \" + d[\"Last Name\"]"
   ]
  },
  {
   "cell_type": "code",
   "execution_count": null,
   "metadata": {
    "collapsed": false
   },
   "outputs": [],
   "source": [
    "#This algorithm used fuzzy logic to match names from a target name list (nameList), to names in the \n",
    "# search list (the second name list), it appplies a score to each name in the search list, and then\n",
    "# sorts the names from highest to lowest, the highest score is the best match\n",
    "\n",
    "\n",
    "from difflib import SequenceMatcher as SM\n",
    "\n",
    "from operator import itemgetter\n",
    "\n",
    "\n",
    "matched_list = []\n",
    "\n",
    "for j in range(0, len(nameList)):\n",
    "    ratio_list =[]\n",
    "    for i in range(0, len(nl) ):\n",
    "        #calculates a matching score\n",
    "        ratio = SM(None, nameList[j], nl[i]).ratio()\n",
    "        name = nl[i]\n",
    "        #add the name to ration_list and its score \n",
    "        ratio_list.append([name, ratio])\n",
    "        \n",
    "        if i == (len(nl)-1):\n",
    "            #sort score from highest to lowest\n",
    "            ratio_list = sorted(ratio_list, key=itemgetter(1), reverse=True)\n",
    "            matched_list.append(ratio_list[0][0])\n",
    "            print \n",
    "            #print the target name (name that you want to find the best match)\n",
    "            print nameList[j]\n",
    "            #print the best match from the search list\n",
    "            print ratio_list[0]"
   ]
  }
 ],
 "metadata": {
  "kernelspec": {
   "display_name": "Python 2",
   "language": "python",
   "name": "python2"
  },
  "language_info": {
   "codemirror_mode": {
    "name": "ipython",
    "version": 2
   },
   "file_extension": ".py",
   "mimetype": "text/x-python",
   "name": "python",
   "nbconvert_exporter": "python",
   "pygments_lexer": "ipython2",
   "version": "2.7.13"
  }
 },
 "nbformat": 4,
 "nbformat_minor": 2
}
